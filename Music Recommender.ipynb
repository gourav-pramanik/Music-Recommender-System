{
 "cells": [
  {
   "cell_type": "code",
   "execution_count": 1,
   "id": "e3efb4be-3974-46f4-b930-5278503c7c52",
   "metadata": {},
   "outputs": [],
   "source": [
    "import pandas as pd"
   ]
  },
  {
   "cell_type": "code",
   "execution_count": 10,
   "id": "1ab12ce0-ad24-4097-adab-8704d98df134",
   "metadata": {},
   "outputs": [
    {
     "name": "stdout",
     "output_type": "stream",
     "text": [
      "Collecting nltk\n",
      "  Downloading nltk-3.8.1-py3-none-any.whl.metadata (2.8 kB)\n",
      "Requirement already satisfied: click in d:\\anaconda\\lib\\site-packages (from nltk) (8.1.7)\n",
      "Requirement already satisfied: joblib in d:\\anaconda\\lib\\site-packages (from nltk) (1.4.2)\n",
      "Collecting regex>=2021.8.3 (from nltk)\n",
      "  Downloading regex-2024.5.15-cp310-cp310-win_amd64.whl.metadata (41 kB)\n",
      "     ---------------------------------------- 0.0/42.0 kB ? eta -:--:--\n",
      "     -------------------------------------  41.0/42.0 kB 991.0 kB/s eta 0:00:01\n",
      "     ---------------------------------------- 42.0/42.0 kB 1.0 MB/s eta 0:00:00\n",
      "Requirement already satisfied: tqdm in d:\\anaconda\\lib\\site-packages (from nltk) (4.66.4)\n",
      "Requirement already satisfied: colorama in d:\\anaconda\\lib\\site-packages (from click->nltk) (0.4.6)\n",
      "Downloading nltk-3.8.1-py3-none-any.whl (1.5 MB)\n",
      "   ---------------------------------------- 0.0/1.5 MB ? eta -:--:--\n",
      "   ------ --------------------------------- 0.2/1.5 MB 7.6 MB/s eta 0:00:01\n",
      "   ------------------ --------------------- 0.7/1.5 MB 8.9 MB/s eta 0:00:01\n",
      "   --------------------------- ------------ 1.0/1.5 MB 9.4 MB/s eta 0:00:01\n",
      "   ------------------------------------- -- 1.4/1.5 MB 8.2 MB/s eta 0:00:01\n",
      "   ---------------------------------------- 1.5/1.5 MB 7.4 MB/s eta 0:00:00\n",
      "Downloading regex-2024.5.15-cp310-cp310-win_amd64.whl (268 kB)\n",
      "   ---------------------------------------- 0.0/269.0 kB ? eta -:--:--\n",
      "   ---------------------------------------- 269.0/269.0 kB 5.5 MB/s eta 0:00:00\n",
      "Installing collected packages: regex, nltk\n",
      "Successfully installed nltk-3.8.1 regex-2024.5.15\n",
      "Note: you may need to restart the kernel to use updated packages.\n"
     ]
    }
   ],
   "source": [
    "pip install nltk"
   ]
  },
  {
   "cell_type": "code",
   "execution_count": 2,
   "id": "81e13f4a-f1f1-439c-9d6e-ebc694c1fae5",
   "metadata": {},
   "outputs": [],
   "source": [
    "df = pd.read_csv(r\"C:\\Users\\prama\\Downloads\\archive (7)\\spotify_millsongdata.csv\")"
   ]
  },
  {
   "cell_type": "code",
   "execution_count": 3,
   "id": "6a50fc27-3e96-49dd-a2cc-b5d906a8def3",
   "metadata": {},
   "outputs": [
    {
     "data": {
      "text/html": [
       "<div>\n",
       "<style scoped>\n",
       "    .dataframe tbody tr th:only-of-type {\n",
       "        vertical-align: middle;\n",
       "    }\n",
       "\n",
       "    .dataframe tbody tr th {\n",
       "        vertical-align: top;\n",
       "    }\n",
       "\n",
       "    .dataframe thead th {\n",
       "        text-align: right;\n",
       "    }\n",
       "</style>\n",
       "<table border=\"1\" class=\"dataframe\">\n",
       "  <thead>\n",
       "    <tr style=\"text-align: right;\">\n",
       "      <th></th>\n",
       "      <th>artist</th>\n",
       "      <th>song</th>\n",
       "      <th>link</th>\n",
       "      <th>text</th>\n",
       "    </tr>\n",
       "  </thead>\n",
       "  <tbody>\n",
       "    <tr>\n",
       "      <th>0</th>\n",
       "      <td>ABBA</td>\n",
       "      <td>Ahe's My Kind Of Girl</td>\n",
       "      <td>/a/abba/ahes+my+kind+of+girl_20598417.html</td>\n",
       "      <td>Look at her face, it's a wonderful face  \\r\\nA...</td>\n",
       "    </tr>\n",
       "    <tr>\n",
       "      <th>1</th>\n",
       "      <td>ABBA</td>\n",
       "      <td>Andante, Andante</td>\n",
       "      <td>/a/abba/andante+andante_20002708.html</td>\n",
       "      <td>Take it easy with me, please  \\r\\nTouch me gen...</td>\n",
       "    </tr>\n",
       "    <tr>\n",
       "      <th>2</th>\n",
       "      <td>ABBA</td>\n",
       "      <td>As Good As New</td>\n",
       "      <td>/a/abba/as+good+as+new_20003033.html</td>\n",
       "      <td>I'll never know why I had to go  \\r\\nWhy I had...</td>\n",
       "    </tr>\n",
       "    <tr>\n",
       "      <th>3</th>\n",
       "      <td>ABBA</td>\n",
       "      <td>Bang</td>\n",
       "      <td>/a/abba/bang_20598415.html</td>\n",
       "      <td>Making somebody happy is a question of give an...</td>\n",
       "    </tr>\n",
       "    <tr>\n",
       "      <th>4</th>\n",
       "      <td>ABBA</td>\n",
       "      <td>Bang-A-Boomerang</td>\n",
       "      <td>/a/abba/bang+a+boomerang_20002668.html</td>\n",
       "      <td>Making somebody happy is a question of give an...</td>\n",
       "    </tr>\n",
       "  </tbody>\n",
       "</table>\n",
       "</div>"
      ],
      "text/plain": [
       "  artist                   song                                        link  \\\n",
       "0   ABBA  Ahe's My Kind Of Girl  /a/abba/ahes+my+kind+of+girl_20598417.html   \n",
       "1   ABBA       Andante, Andante       /a/abba/andante+andante_20002708.html   \n",
       "2   ABBA         As Good As New        /a/abba/as+good+as+new_20003033.html   \n",
       "3   ABBA                   Bang                  /a/abba/bang_20598415.html   \n",
       "4   ABBA       Bang-A-Boomerang      /a/abba/bang+a+boomerang_20002668.html   \n",
       "\n",
       "                                                text  \n",
       "0  Look at her face, it's a wonderful face  \\r\\nA...  \n",
       "1  Take it easy with me, please  \\r\\nTouch me gen...  \n",
       "2  I'll never know why I had to go  \\r\\nWhy I had...  \n",
       "3  Making somebody happy is a question of give an...  \n",
       "4  Making somebody happy is a question of give an...  "
      ]
     },
     "execution_count": 3,
     "metadata": {},
     "output_type": "execute_result"
    }
   ],
   "source": [
    "df.head(5)\n"
   ]
  },
  {
   "cell_type": "code",
   "execution_count": 4,
   "id": "50a8001e-8351-4141-88da-da185ace6408",
   "metadata": {},
   "outputs": [],
   "source": [
    "df =df.sample(5000).drop('link', axis=1).reset_index(drop=True)"
   ]
  },
  {
   "cell_type": "code",
   "execution_count": 5,
   "id": "e2bbfe07-a7f8-4fbc-886d-31033656e5ca",
   "metadata": {},
   "outputs": [
    {
     "data": {
      "text/html": [
       "<div>\n",
       "<style scoped>\n",
       "    .dataframe tbody tr th:only-of-type {\n",
       "        vertical-align: middle;\n",
       "    }\n",
       "\n",
       "    .dataframe tbody tr th {\n",
       "        vertical-align: top;\n",
       "    }\n",
       "\n",
       "    .dataframe thead th {\n",
       "        text-align: right;\n",
       "    }\n",
       "</style>\n",
       "<table border=\"1\" class=\"dataframe\">\n",
       "  <thead>\n",
       "    <tr style=\"text-align: right;\">\n",
       "      <th></th>\n",
       "      <th>artist</th>\n",
       "      <th>song</th>\n",
       "      <th>text</th>\n",
       "    </tr>\n",
       "  </thead>\n",
       "  <tbody>\n",
       "    <tr>\n",
       "      <th>0</th>\n",
       "      <td>Usher</td>\n",
       "      <td>Doin The Most</td>\n",
       "      <td>This is just to show my appreciation  \\r\\nFor ...</td>\n",
       "    </tr>\n",
       "    <tr>\n",
       "      <th>1</th>\n",
       "      <td>Neil Diamond</td>\n",
       "      <td>Candlelight Carol</td>\n",
       "      <td>How do you capture  \\r\\nThe wind on the water?...</td>\n",
       "    </tr>\n",
       "    <tr>\n",
       "      <th>2</th>\n",
       "      <td>Faces</td>\n",
       "      <td>Love Lives Here</td>\n",
       "      <td>It's hard to believe that this is the place  \\...</td>\n",
       "    </tr>\n",
       "    <tr>\n",
       "      <th>3</th>\n",
       "      <td>Fleetwood Mac</td>\n",
       "      <td>Only Over You</td>\n",
       "      <td>I'm out of my mind  \\r\\nAnd it's only over you...</td>\n",
       "    </tr>\n",
       "    <tr>\n",
       "      <th>4</th>\n",
       "      <td>Irving Berlin</td>\n",
       "      <td>Let's Face The Music And Dance</td>\n",
       "      <td>There may be trouble ahead  \\r\\nBut while ther...</td>\n",
       "    </tr>\n",
       "    <tr>\n",
       "      <th>5</th>\n",
       "      <td>Nine Inch Nails</td>\n",
       "      <td>I Would For You</td>\n",
       "      <td>What a pathetic stray of words  \\r\\nJust leave...</td>\n",
       "    </tr>\n",
       "    <tr>\n",
       "      <th>6</th>\n",
       "      <td>Pearl Jam</td>\n",
       "      <td>Comatose</td>\n",
       "      <td>Consider me an object  \\r\\nPut me in a vacuum ...</td>\n",
       "    </tr>\n",
       "    <tr>\n",
       "      <th>7</th>\n",
       "      <td>Mary Black</td>\n",
       "      <td>She Moves Through The Fair</td>\n",
       "      <td>I once had a sweetheart, I loved her right wel...</td>\n",
       "    </tr>\n",
       "    <tr>\n",
       "      <th>8</th>\n",
       "      <td>Point Of Grace</td>\n",
       "      <td>When The Wind Blows</td>\n",
       "      <td>Night turns to daylight  \\r\\nAnd things are qu...</td>\n",
       "    </tr>\n",
       "    <tr>\n",
       "      <th>9</th>\n",
       "      <td>Frank Sinatra</td>\n",
       "      <td>America The Beautiful</td>\n",
       "      <td>(America, America, America, America)  \\r\\nOh b...</td>\n",
       "    </tr>\n",
       "  </tbody>\n",
       "</table>\n",
       "</div>"
      ],
      "text/plain": [
       "            artist                            song  \\\n",
       "0            Usher                   Doin The Most   \n",
       "1     Neil Diamond               Candlelight Carol   \n",
       "2            Faces                 Love Lives Here   \n",
       "3    Fleetwood Mac                   Only Over You   \n",
       "4    Irving Berlin  Let's Face The Music And Dance   \n",
       "5  Nine Inch Nails                 I Would For You   \n",
       "6        Pearl Jam                        Comatose   \n",
       "7       Mary Black      She Moves Through The Fair   \n",
       "8   Point Of Grace             When The Wind Blows   \n",
       "9    Frank Sinatra           America The Beautiful   \n",
       "\n",
       "                                                text  \n",
       "0  This is just to show my appreciation  \\r\\nFor ...  \n",
       "1  How do you capture  \\r\\nThe wind on the water?...  \n",
       "2  It's hard to believe that this is the place  \\...  \n",
       "3  I'm out of my mind  \\r\\nAnd it's only over you...  \n",
       "4  There may be trouble ahead  \\r\\nBut while ther...  \n",
       "5  What a pathetic stray of words  \\r\\nJust leave...  \n",
       "6  Consider me an object  \\r\\nPut me in a vacuum ...  \n",
       "7  I once had a sweetheart, I loved her right wel...  \n",
       "8  Night turns to daylight  \\r\\nAnd things are qu...  \n",
       "9  (America, America, America, America)  \\r\\nOh b...  "
      ]
     },
     "execution_count": 5,
     "metadata": {},
     "output_type": "execute_result"
    }
   ],
   "source": [
    "df.head(10)"
   ]
  },
  {
   "cell_type": "code",
   "execution_count": 6,
   "id": "a18dd3ca-d260-4677-94de-0c75eb4ea18f",
   "metadata": {},
   "outputs": [
    {
     "data": {
      "text/plain": [
       "\"This is just to show my appreciation  \\r\\nFor all of your love  \\r\\nFor all of these years  \\r\\n  \\r\\n[Chorus]  \\r\\nYour doin' the most (yeah, yeah)  \\r\\nI wanna learn (oh yeah, yeah)  \\r\\nTo understand (oh baby, baby yeah)  \\r\\nAnd I like it babe (and I like babe)  \\r\\nListen  \\r\\n  \\r\\nYou there for me  \\r\\nEverytime  \\r\\nYou make sure that I'm  \\r\\nAlright  \\r\\n  \\r\\nDown for me  \\r\\nWith so much love  \\r\\nNo matter what  \\r\\nI can't believe you deal with me  \\r\\n  \\r\\nEven when I put you down  \\r\\nHow can you keep giving?  \\r\\nWhen I disappoint you  \\r\\nYou don't deserve it  \\r\\n  \\r\\nBut why do you take it?  \\r\\n'Cause you say I'm worth it  \\r\\n  \\r\\n[Chorus]  \\r\\nYour doin' the most (show me baby)  \\r\\nI wanna learn (teach me suga)  \\r\\nTo understand  \\r\\nHow to love and please you (yeah)  \\r\\nLike you do every time I need you (oh, oh yeah)  \\r\\n  \\r\\nYour doin' the most (you're doin' the most)  \\r\\nI wanna learn (I wanna learn)  \\r\\nTo understand  \\r\\nI sampled a taste of your forever  \\r\\nAnd I like it babe (and I like it babe)  \\r\\n  \\r\\nIt been a minute since we spent some time  \\r\\nI was in the wrong state of mind  \\r\\nHope I can fix it  \\r\\nWith dinner by candlelight  \\r\\n  \\r\\nA dozen roses  \\r\\nHershey kisses for the ground you walk on  \\r\\nIf I never told you  \\r\\nI'm so proud to say your mine  \\r\\n  \\r\\nMy time and attention  \\r\\nI'm willing to give it  \\r\\nI don't wanna lose you  \\r\\nI couldn't take it  \\r\\n  \\r\\n[Chorus]  \\r\\nYeah your doin' the most (your doin' the most)  \\r\\nI wanna learn (teach me suga)  \\r\\nTo understand  \\r\\nHow to love and please you (yeah)  \\r\\nLike you do every time I need ya (oh, oh baby)  \\r\\n  \\r\\nYou doin' the most (doin' the most, yeah)  \\r\\nI wanna learn (I wanna learn)  \\r\\nTo understand  \\r\\nSay I sampled a taste of your forever  \\r\\nAnd I like it babe (Ooo girl I like it)  \\r\\nI like it babe  \\r\\n  \\r\\n[Bridge]  \\r\\nI used to have my dimes  \\r\\nLove was just a game to me  \\r\\nBut now I know why love's so amazing  \\r\\nBecause it changed me  \\r\\n  \\r\\nYou never gave up  \\r\\nAnd now I know  \\r\\nTrue love's not taken  \\r\\nThank God you're who you are  \\r\\n  \\r\\n'Cause you gave love  \\r\\nFrom your heart  \\r\\n  \\r\\n[Chorus]  \\r\\nYour doin' the most (your doin' the most)  \\r\\nI wanna learn (I wanna learn yeah)  \\r\\nTo understand  \\r\\nLike you do everytime I need you  \\r\\n  \\r\\nYou doin' the most (show me baby)  \\r\\nI wanna learn (I wanna learn)  \\r\\nTo understand  \\r\\nSampled a taste of your forever  \\r\\nAnd I like it babe (Ooo girl I like it babe)  \\r\\nI like it babe  \\r\\n  \\r\\nAll the times we fussed and fight  \\r\\nWanna make you feel good tonight  \\r\\nThis is your day suga  \\r\\nSmile for me babe  \\r\\n  \\r\\n[Chorus]  \\r\\nYour doin' the most (uh oh, your doing the most)  \\r\\nI wanna learn (girl I really want to understand)  \\r\\nTo understand  \\r\\nSampled a taste of your forever  \\r\\nAnd I like it babe (Ooh girl I like it)  \\r\\nI like it babe  \\r\\nYou taste so good to me\\r\\n\\r\\n\""
      ]
     },
     "execution_count": 6,
     "metadata": {},
     "output_type": "execute_result"
    }
   ],
   "source": [
    "df['text'][0]"
   ]
  },
  {
   "cell_type": "code",
   "execution_count": 7,
   "id": "ed5cbf2f-436c-47a7-b7ae-a7e352fe233e",
   "metadata": {},
   "outputs": [
    {
     "data": {
      "text/plain": [
       "(5000, 3)"
      ]
     },
     "execution_count": 7,
     "metadata": {},
     "output_type": "execute_result"
    }
   ],
   "source": [
    "df.shape"
   ]
  },
  {
   "cell_type": "code",
   "execution_count": 8,
   "id": "018a5b48-f796-4fcb-855f-7590f0d367f0",
   "metadata": {},
   "outputs": [],
   "source": [
    "df['text'] = df['text'].str.lower().replace(r'^\\w\\s', ' ').replace(r'\\n', ' ', regex = True)"
   ]
  },
  {
   "cell_type": "code",
   "execution_count": 13,
   "id": "535962bd-efae-4c74-aa92-2525d6f3c069",
   "metadata": {},
   "outputs": [
    {
     "name": "stderr",
     "output_type": "stream",
     "text": [
      "[nltk_data] Downloading package punkt to\n",
      "[nltk_data]     C:\\Users\\prama\\AppData\\Roaming\\nltk_data...\n",
      "[nltk_data]   Unzipping tokenizers\\punkt.zip.\n"
     ]
    }
   ],
   "source": [
    "import nltk\n",
    "nltk.download('punkt')\n",
    "from nltk.stem.porter import PorterStemmer\n",
    "stemmer = PorterStemmer()\n",
    "\n",
    "def tokenization(txt):\n",
    "    tokens = nltk.word_tokenize(txt)\n",
    "    stemming = [stemmer.stem(w) for w in tokens]\n",
    "    return \" \".join(stemming)"
   ]
  },
  {
   "cell_type": "code",
   "execution_count": 14,
   "id": "c178db96-a167-425c-8896-ed379cbce6dd",
   "metadata": {},
   "outputs": [],
   "source": [
    "df['text'] = df['text'].apply(lambda x: tokenization(x))"
   ]
  },
  {
   "cell_type": "code",
   "execution_count": 15,
   "id": "5f1fcc87-b0ba-4da1-89a5-70e23b987755",
   "metadata": {},
   "outputs": [],
   "source": [
    "from sklearn.feature_extraction.text import TfidfVectorizer\n",
    "from sklearn.metrics.pairwise import cosine_similarity"
   ]
  },
  {
   "cell_type": "code",
   "execution_count": 16,
   "id": "7bd251e7-fada-4fc1-beb4-ce7c02fb64c2",
   "metadata": {},
   "outputs": [],
   "source": [
    "tfidvector = TfidfVectorizer(analyzer='word',stop_words='english')\n",
    "matrix = tfidvector.fit_transform(df['text'])\n",
    "similarity = cosine_similarity(matrix)"
   ]
  },
  {
   "cell_type": "code",
   "execution_count": 17,
   "id": "2c7cbc75-9dbf-4932-bf94-a4070d9340e3",
   "metadata": {},
   "outputs": [],
   "source": [
    "def recommendation(song_df):\n",
    "    idx = df[df['song'] == song_df].index[0]\n",
    "    distances = sorted(list(enumerate(similarity[idx])),reverse=True,key=lambda x:x[1])\n",
    "    \n",
    "    songs = []\n",
    "    for m_id in distances[1:21]:\n",
    "        songs.append(df.iloc[m_id[0]].song)\n",
    "        \n",
    "    return songs"
   ]
  },
  {
   "cell_type": "code",
   "execution_count": 19,
   "id": "0edbc39d-3487-4d78-b70c-26ce59c4ca65",
   "metadata": {},
   "outputs": [
    {
     "data": {
      "text/plain": [
       "array([1.        , 0.01543362, 0.0161427 , ..., 0.10884411, 0.13723728,\n",
       "       0.02837694])"
      ]
     },
     "execution_count": 19,
     "metadata": {},
     "output_type": "execute_result"
    }
   ],
   "source": [
    "similarity[0]"
   ]
  },
  {
   "cell_type": "code",
   "execution_count": 22,
   "id": "41feb70f-b572-4250-9a87-08f59dd79395",
   "metadata": {},
   "outputs": [
    {
     "data": {
      "text/plain": [
       "0"
      ]
     },
     "execution_count": 22,
     "metadata": {},
     "output_type": "execute_result"
    }
   ],
   "source": [
    "df[df['song'] == 'Doin The Most'].index[0]"
   ]
  },
  {
   "cell_type": "code",
   "execution_count": 23,
   "id": "b2d88cf8-6e11-4774-94b7-11bbbd97b6ce",
   "metadata": {},
   "outputs": [
    {
     "data": {
      "text/plain": [
       "['Miss You',\n",
       " 'Just Like That',\n",
       " 'I Wanna Go Crazy',\n",
       " 'Big Man',\n",
       " 'If You Wanna Stay',\n",
       " 'Do Right To Me Baby',\n",
       " 'Tell The World About You',\n",
       " 'I Wanna Hold You Tonight',\n",
       " 'Na Na Na',\n",
       " 'Haze',\n",
       " 'Move On',\n",
       " 'Heartbreaker',\n",
       " 'I Got You Babe',\n",
       " 'Do You Love What You Feel',\n",
       " 'I Got A Line On You',\n",
       " 'Tell All The World About You',\n",
       " 'The Runaway',\n",
       " 'Sand On My Feet',\n",
       " 'Hey Baby',\n",
       " 'Really Wanna Know']"
      ]
     },
     "execution_count": 23,
     "metadata": {},
     "output_type": "execute_result"
    }
   ],
   "source": [
    "recommendation('Doin The Most')"
   ]
  },
  {
   "cell_type": "code",
   "execution_count": null,
   "id": "2a4830f9-d0dd-4bc2-85de-2b834dc8fbba",
   "metadata": {},
   "outputs": [],
   "source": []
  }
 ],
 "metadata": {
  "kernelspec": {
   "display_name": "Python 3 (ipykernel)",
   "language": "python",
   "name": "python3"
  },
  "language_info": {
   "codemirror_mode": {
    "name": "ipython",
    "version": 3
   },
   "file_extension": ".py",
   "mimetype": "text/x-python",
   "name": "python",
   "nbconvert_exporter": "python",
   "pygments_lexer": "ipython3",
   "version": "3.10.14"
  }
 },
 "nbformat": 4,
 "nbformat_minor": 5
}
